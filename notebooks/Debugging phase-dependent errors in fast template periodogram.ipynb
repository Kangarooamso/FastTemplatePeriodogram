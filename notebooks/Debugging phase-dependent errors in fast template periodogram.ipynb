{
 "cells": [
  {
   "cell_type": "markdown",
   "metadata": {},
   "source": [
    "## Phase-dependent errors in periodogram\n",
    "\n",
    "Relevant scripts:\n",
    "\n",
    "`custom_poly_test.py`\n",
    "\n",
    "* Optimal parameters have a phase offset of $\\sim 0.5$; basically replacing `sgn` and `b` with `-sgn` and `-b` makes the fits more reasonable, but there are still discrepancies\n",
    "\n",
    "### Given a `b` value, is the expression of the periodogram correct?\n",
    "\n",
    "### Is the polynomial correct?\n",
    "* No! there are **NO** real roots in $b\\in [-1, 1]$\n",
    "\n",
    "### Are the zeros correct?\n",
    "* ADD UNIT TESTS FOR THIS (test root finding method for pseudo polynomial and test the polyroots function for several pathological polynomials to test the limits.\n",
    "    * Does polyroots find close roots?\n",
    "    * Does the rootpoly \n",
    "\n",
    "### \n",
    "\n"
   ]
  },
  {
   "cell_type": "code",
   "execution_count": null,
   "metadata": {
    "collapsed": true
   },
   "outputs": [],
   "source": []
  }
 ],
 "metadata": {
  "anaconda-cloud": {},
  "kernelspec": {
   "display_name": "Python [conda env:python3]",
   "language": "python",
   "name": "conda-env-python3-py"
  },
  "language_info": {
   "codemirror_mode": {
    "name": "ipython",
    "version": 3
   },
   "file_extension": ".py",
   "mimetype": "text/x-python",
   "name": "python",
   "nbconvert_exporter": "python",
   "pygments_lexer": "ipython3",
   "version": "3.6.0"
  }
 },
 "nbformat": 4,
 "nbformat_minor": 1
}
