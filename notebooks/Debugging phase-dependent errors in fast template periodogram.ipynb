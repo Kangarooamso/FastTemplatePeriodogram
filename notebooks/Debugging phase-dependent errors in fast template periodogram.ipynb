{
 "cells": [
  {
   "cell_type": "markdown",
   "metadata": {},
   "source": [
    "## Phase-dependent errors in periodogram\n",
    "\n",
    "![img](last_frame_H3.png)\n",
    "\n",
    "Relevant scripts:\n",
    "\n",
    "\n",
    "\n",
    "`custom_poly_test.py`\n",
    "\n",
    "* Optimal parameters have a phase offset of $\\sim 0.5$; basically replacing `sgn` and `b` with `-sgn` and `-b` makes the fits more reasonable, but there are still discrepancies\n",
    "\n",
    "### Given a `b` value, is the expression of the periodogram correct?\n",
    "\n",
    "\n",
    "\n",
    "### Is the root-finding polynomial correct?\n",
    "* No! there are **NO** real roots in $b\\in [-1, 1]$\n",
    "* Why is this the case?\n",
    "    * Is there a mistake in `PseudoPolynomial`?\n",
    "        * `deriv` -- \n",
    "        * `__add__`\n",
    "        * `__mul__`\n",
    "        * Changed `root_finding_poly` to return $p(x) - (1 - x^2)q(x)$ (instead of $(1 - x^2)p(x) - q(x)$)\n",
    "        * Some of the coefficients for the calculation of the `K` constants were reversed (or maybe I reversed them again?)\n",
    "        * Added unit test of root finding poly and changed `__call__` to explicitly call `self.eval`.\n",
    "        \n",
    "\n",
    "### `CS` is *NOT* symmetric!\n",
    "* It looks like a covariance matrix, but it isn't. $\\left<\\cos(nx)\\sin(mx)\\right> \\ne \\left<\\cos(mx)\\sin(nx)\\right>$\n",
    "* This invalidates a lot of the assumptions we were making when simplifying the polynomial\n",
    "\n",
    "### Are the zeros correct?\n",
    "* ADD UNIT TESTS FOR THIS (test root finding method for pseudo polynomial and test the polyroots function for several pathological polynomials to test the limits.\n",
    "    * Does polyroots find close roots?\n",
    "    * Does the root-finding-poly really find the roots of the pseudo polynomial?\n",
    "\n",
    "### \n",
    "\n"
   ]
  },
  {
   "cell_type": "code",
   "execution_count": null,
   "metadata": {
    "collapsed": true
   },
   "outputs": [],
   "source": []
  }
 ],
 "metadata": {
  "anaconda-cloud": {},
  "kernelspec": {
   "display_name": "Python [conda env:python3]",
   "language": "python",
   "name": "conda-env-python3-py"
  },
  "language_info": {
   "codemirror_mode": {
    "name": "ipython",
    "version": 3
   },
   "file_extension": ".py",
   "mimetype": "text/x-python",
   "name": "python",
   "nbconvert_exporter": "python",
   "pygments_lexer": "ipython3",
   "version": "3.6.0"
  }
 },
 "nbformat": 4,
 "nbformat_minor": 1
}
